{
 "cells": [
  {
   "cell_type": "raw",
   "metadata": {},
   "source": [
    "1. To what does a relative path refer?\n",
    "2. What does an absolute path start with your operating system?\n",
    "3. What do the functions os.getcwd() and os.chdir() do?\n",
    "4. What are the . and .. folders?\n",
    "5. In C:\\bacon\\eggs\\spam.txt, which part is the dir name, and which part is the base name?\n",
    "6. What are the three “mode” arguments that can be passed to the open() function?\n",
    "7. What happens if an existing file is opened in write mode?\n",
    "8. How do you tell the difference between read() and readlines()?\n",
    "9. What data structure does a shelf value resemble?\n"
   ]
  },
  {
   "cell_type": "raw",
   "metadata": {},
   "source": [
    "Q.1 To what does a relative path refer?\n",
    "\n",
    "Sol:A relative path refers to a location that is relative to a current directory. Relative paths make use of two special symbols, a dot (.) and a double-dot (..), which translate into the current directory and the parent directory. ... The current directory is sometimes referred to as the root directory."
   ]
  },
  {
   "cell_type": "raw",
   "metadata": {},
   "source": [
    "Q.2. What does an absolute path start with your operating system?\n",
    "\n",
    "Sol: In other words,we can say that an absolute path is a complete path from start of actual file system from / directory."
   ]
  },
  {
   "cell_type": "raw",
   "metadata": {},
   "source": [
    "Q.3. What do the functions os.getcwd() and os.chdir() do?\n",
    "\n",
    "Sol: os.getcwd(): by using this we get the location of the current working Directory\n",
    "    os.chdir():Python method chdir() changes the current working directory to the given path.\n"
   ]
  },
  {
   "cell_type": "raw",
   "metadata": {},
   "source": [
    "Q. 4. What are the . and .. folders?\n",
    "\n",
    "Sol:  . and .. folders are . (current folder) and .. (parent folder). "
   ]
  },
  {
   "cell_type": "raw",
   "metadata": {},
   "source": [
    "Q. 5. In C:\\bacon\\eggs\\spam.txt, which part is the dir name, and which part is the base name?\n",
    "    \n",
    "    \n",
    "Sol: C:\\bacon\\eggs is the dir name, while spam.txt is the base name."
   ]
  },
  {
   "cell_type": "raw",
   "metadata": {},
   "source": [
    "Q. 6. What are the three “mode” arguments that can be passed to the open() function?\n",
    "\n",
    "Sol: The string 'r' for read mode, 'w' for write mode, and 'a' for append mode"
   ]
  },
  {
   "cell_type": "raw",
   "metadata": {},
   "source": [
    "Q. 7 What happens if an existing file is opened in write mode?\n",
    "\n",
    "Sol: An existing file opened in write mode is erased and completely overwritten."
   ]
  },
  {
   "cell_type": "raw",
   "metadata": {},
   "source": [
    "Q. 8 How do you tell the difference between read() and readlines()?\n",
    "\n",
    "Sol: The read() method returns the file's entire contents as a single string value. The readlines() method returns a list of strings, where each string is a line from the file's contents.\n",
    "\n"
   ]
  },
  {
   "cell_type": "raw",
   "metadata": {},
   "source": [
    "Q. 9 What data structure does a shelf value resemble?\n",
    "\n",
    "\n",
    "Sol: A shelf value resembles a dictionary value; it has keys and values, along with keys() and values() methods that work similarly to the dictionary methods of the same names.\n",
    "\n"
   ]
  }
 ],
 "metadata": {
  "kernelspec": {
   "display_name": "Python 3",
   "language": "python",
   "name": "python3"
  },
  "language_info": {
   "codemirror_mode": {
    "name": "ipython",
    "version": 3
   },
   "file_extension": ".py",
   "mimetype": "text/x-python",
   "name": "python",
   "nbconvert_exporter": "python",
   "pygments_lexer": "ipython3",
   "version": "3.8.5"
  }
 },
 "nbformat": 4,
 "nbformat_minor": 4
}
